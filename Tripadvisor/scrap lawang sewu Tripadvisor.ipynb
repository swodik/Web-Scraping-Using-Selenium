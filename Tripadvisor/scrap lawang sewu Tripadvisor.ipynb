{
 "cells": [
  {
   "cell_type": "markdown",
   "metadata": {},
   "source": [
    "# Scraping ulasan Lawang Sewu pada situs TripAdvisor\n",
    "\n",
    "this code is a code to scrap Lawang Sewu review data on the tripadvisor website"
   ]
  },
  {
   "cell_type": "markdown",
   "metadata": {},
   "source": [
    "# 1. Import library"
   ]
  },
  {
   "cell_type": "code",
   "execution_count": 1,
   "metadata": {},
   "outputs": [],
   "source": [
    "import csv\n",
    "import time\n",
    "from selenium import webdriver\n",
    "from selenium.common.exceptions import NoSuchElementException"
   ]
  },
  {
   "cell_type": "markdown",
   "metadata": {},
   "source": [
    "# 2. Import the webdriver and enter the website address that will be scrap"
   ]
  },
  {
   "cell_type": "code",
   "execution_count": 10,
   "metadata": {},
   "outputs": [
    {
     "name": "stderr",
     "output_type": "stream",
     "text": [
      "C:\\Users\\Fajar\\Anaconda3\\envs\\hello-tf\\lib\\site-packages\\ipykernel_launcher.py:6: DeprecationWarning: use options instead of chrome_options\n",
      "  \n"
     ]
    }
   ],
   "source": [
    "# mengimport webdriver\n",
    "from selenium.webdriver.chrome.options import Options\n",
    "chrome_options = Options()\n",
    "chrome_options.add_argument(\"--window-size=1920,1080\")\n",
    "chrome_options.add_experimental_option( \"prefs\",{'profile.managed_default_content_settings.images': 2})\n",
    "driver = webdriver.Chrome('C:/Users/Fajar/chromedriver_win32()/chromedriver.exe', chrome_options=chrome_options)\n",
    "\n",
    "# masukan alamat website TripAdvisor Lawang Sewu \n",
    "driver.get(\"https://www.tripadvisor.co.id/Attraction_Review-g297712-d379332-Reviews-Lawang_Sewu_Building-Semarang_Central_Java_Java.html\")"
   ]
  },
  {
   "cell_type": "markdown",
   "metadata": {},
   "source": [
    "# 3. Scrap\n",
    "\n",
    "for data to be retrieved only name data, ratings and reviews"
   ]
  },
  {
   "cell_type": "code",
   "execution_count": 11,
   "metadata": {},
   "outputs": [
    {
     "name": "stdout",
     "output_type": "stream",
     "text": [
      "5\n",
      "5.0  H. Yusuf tempat ini sangat disarankan bagi kamu yang suka melancong dan menjadi backpacker. menakjubkan dan indah. tempat nyaman dan akan menjadi kenangan dalam kisah yang diceritakan di masa yang akan datang. salam pack!\n",
      "4.0  Lim F Lawang Sewu atau pintu seribu sesuai dengan namanya karena banguan ini berpintu banyak sekali, tentu tidak sampai seribu tapi saya yakin lebih dari seratus, kompleks cukup luas terdiri dari beberapa bangunan bersejarah yang sudah berumur ratusan tahun, bagus sekali bagi yang…\n",
      "4.0  AchmadSultoni Gedung tua yang penuh sejarah. Buka jam 8 pagi saat pendemi. Ada jasa pemandu wisata, tapi kita tidak menggunakan. Bangunan masih bagus. Ada juga tempat sewa kostum buat dewasa dan anak.\n",
      "5.0  Ignatius M Rame dengan pengunjung, letaknya dekat kemana-mana. Disekitaran Lawang Sewu juga banyak pilihan hotel dan dekat Gereja Katedral\n",
      "5.0  Deddy Cocok untuk wisata edukasi sejarah.kalau mengunjungi tempat sejarah bersama anak2 sebaiknya di siang hari\n",
      "5\n",
      "5.0  Rizenda Sangat bagus untuk pembelajaran dan wisata..kurang leluasa dalam mengeksplor seluruh ruangan. Kurang tersedia tempat rehat setelah berkeliling.\n",
      "5.0  Just Mira Bagus kl datang pas malem, cakep bt foto2 cuma rada2 ngeri2 sedap ...angker karna bangunan kuno didlm gedung banyak foto2 bersejarah tentang gedung dan alat2 telekomunikasi dari masa ke masa..\n",
      "5.0  Kurniadi Bagus Sekali. Saya berkunjung kamis malam (malam jumat) ke Lawang Sewu Semarang. Sengaja menggunakan jasa guide supaya mendapat penjelasan dan mendapat akses ke semua bagian gedung. Secara keseluruhan gedung ini masih bagus dan terawat. Pada malam hari tampak aroma 'seram'…\n",
      "3.0  Nina R Sudah lama ingin berkunjung ke Lawang Sewu karena penasaran apa isinya. Ternyata hanya berisi info tentang perkereta apian saja. Sesuai namanya memang banyak sekali jendela/pintunya. Kalau mau ke sini cukup sulit mendapatkan tempat parkir mobil dan mobil hanya bisa parkir di…\n",
      "5.0  Fredianto Nugroho Dulu pada jaman Belanda pernah digunakan untuk Kantor Kereta Api, lalu digunakan untuk menahan para pejuang Indonesia. terkenal bangunan yang angker juga dulu, tapi setelah di renovasi sampai malam pun tidak terasa horornya.\n",
      "5\n",
      "5.0  Fitrinath Tempat wisata mistis yg keren ada disini. Bangunannya masih bagus penuh sejarah. Sayang tidak semua bisa dilihat.\n",
      "5.0  Umar surono Ini benar-benar tempat yang indah and eksotik, anda akan kecewa jika ke semarang tidak menyempatkan mampir\n",
      "4.0  Ndra Kak ini placenya lumayan karena ga ngeluarin kocek yak. Tpi itu mitos'ny bener gasi? Aku g percaya anj:v\n",
      "5.0  Jois Keren..gedung terawat dan bersih..bpk guide nya ramah..live musiknya bikin adem..perlu tambahan yg jualan\n",
      "5.0  Meddy Harjanto Bagus tempatnya, capek kelilingnya. Tempat parkirnya terbatas. Sayangnya akses ke penjara bawah tanah gak di buka. Dan akses ke lantai atas di gedung bagian depan ditutup. Bagus untuk mencari obyrk foto untuk medsos\n",
      "5\n",
      "3.0  Leonardi L Lawang Sewu, skitar 2 km dr simpang lima kota Semarang ... Lokasi peninggalan Belanda ini terkenal angker, diberi peringkat no.2 terserem disejagad bumi ini (believe it or not = it's up to you to decide ...) ... Lahan & bangunan nya sangat luas srrta sangat kokoh, konon katanya…\n",
      "5.0  Dendihhermansyah Pertama kali kesemarang sendirian untuk ketemu teman disana pas di perjalanan ke kosan dia ada gedung tua gitu namanya lawang sewu. Tempatnya pas saya kira serem pas udah masuk kesananya ternyata keren banget untuk berfoto-foto dan bersih jugaa keren deh pokoknya\n",
      "5.0  Lusiana K Tempat ini lebih menarik didatangi saat menjelang malam karena lampu nyala semua. Sekalipun ada cerita2 mistis tentang tempat ini namun tidak sedikitpun mengurangi daya tarik lawang sewu...banyak pengetahuan sejarah PT Pos ditempat ini...semacam musium pos lah, spot foto jg…\n",
      "4.0  Sigit_Priyono Tempat yg dulu terkenal angker.tdk pernah mampir selama kuliah di semarang, walau dilewati setiap pulang mudik ke rumah. Banyak dikunjungi pelajar, bagus utk belajar ttg sejarah perkereta apian\n",
      "5.0  Wahyu E Dalam kunjungan tugas kali ini saya dan keluarga menyempatkan diri untuk mengunjungi Lawang Sewu. Mumpung ada kesempatan..rasanya kurang afdol jika ke Semarang tapi tidak mengunjungi tempat wisata ini.. bagian dari cagar budaya ini nyatanya menarik minat pengunjung untuk…\n",
      "5\n",
      "5.0  Fanimilia Heiii, kalau kalian ada kesempatan untuk mengunjungi semarang. Kamu harus wajib ke tempat ini. Kenapa ? Tempat ini adalah salah satu iconic semarang dan juga bangunan yang bagus banget. Disitu juga terdapat penjelasan penjelasan tentang lawang sewu tempo dulu dan masih banyak…\n",
      "5.0  ariocxa lawang sewu demikian umumnya masyarakat menyebut bangunan tua yg bersejarah..terletak di persimpangan pusat kota semarang jawa tengah.bangunan yg dulunya merupakan bekas kantor kereta api banyak mwnyimpan nilai sejarah.\n",
      "5.0  Carel Yonathan Semarang banyak sekali wisata yang unik dan mencekam, disana terasa hawa yang lumayan angker karena itu bangunan tua. Pokoknya tempatmya juoss bagusss bangetttt...\n",
      "5.0  darmawan1965 Gedung Lawang Sewu dahulu adalah kantor pusat perusahaan kereta api jaman penjajahan belanda. Sampai saat ini masih terawat dan renovasi masih terus berlangsung. Lantai bawah tanah yg merupakan tempat resapan air utk pendingin gedung saat ini sdh tertutup utk pengunjung. Banyak…\n",
      "4.0  Yanes P Saya ketempat ini sktr jam setengah 6 sore waktu yang tepat menghabiskan senja sembari menanti datangnya malam.. arstitektur gedungnya khas orientalis, dari satu ruangan ke ruangan lain kita seperti menapaktilas sejarah kereta api di Jawa Tengah, khususnya semarang sejak jaman…\n",
      "5\n",
      "3.0  Astrin Febria (IDN) tempat tepat di segitiga emas wisata kota semarang (jalan pemuda). dulunya tempat wisata ini tidak terurus, tetapi manajemenya semakin baik dari tahun ke tahun. bahkan sistem tiketing menggaunakan elektronik tap. cukup terjangkau untuk tiket masuk, antara…\n",
      "4.0  pujinastitir Bangunan yang sekarang telah dicat ulang, membuat bangunan terasa lebih cantik. Bawa kipas ya, angin susah masuk di taman tengah-tengah gedung karena gedungnya terlalu saling berdekatan, jadi celah angin untuk masuk, dikit banget.\n",
      "3.0  nico “om gembul jajan” kunjungan pertama bersama teman2.. belom lagi pada saat itu saya berkunjung kesemua lokasi sampai ke penjara bawah tanahny.. ada beberapa lokasi kurang terawat dan juga parkiran untuk mobil susah di jangkau lebih baik naik ojek online…\n",
      "5.0  TRAVELLER First, entrance fee nya terjangkau, apalagi pelajar bisa dpr harga spesial. Memasuki area depan sudah disuguhi bangunan kuno yang sangat menarik, memasuki area dalam suasana tempo dulu lebih terasa. Apalagi di dalam nya banyaj hal hal yg bisa dipelajari. Wajib foto di area dalan…\n",
      "3.0  Hisar Mauliate S Untuk gedung ini salah satu ciri khas dari semarang yang konon ceritanya ini tempat yang sangat angker sekali pun sekarang sudah berkurang, katanya sih begitu hehee...Dulu orang yang imannya lemah gampang kerasukan disana lebih cenderung wanita apalagi yang datang bulan(udah…\n",
      "5\n",
      "5.0  Wiba Lawang sewu sudah berbeda pada tahun 2007. Sekarang bersih dan tidak menyeramkan. Bersih, dan selalu ada aktifitas performance. Salut utk pemerintah kota makassar.\n",
      "4.0  AldiPradana Sudah beberapa kali berkunjung ke Semarang tapi baru kali ini kesampaian untuk masuk ke Lawang Sewu. Gak se-horror yang aku denger sih. Bangunannya emang kolonial banget. Dengan banyak pintu yang entah jumlah tepatnya berapa. Banyak aja. Hahaha. Tips dariku kalau mau berkunjung kesini sih pagi hari ya dan bukan weekend. Jadi gak terlalu ramai. Paling akan ada pemandangan sepasang dua pasang calon pengantin yang prewed.\n",
      "5.0  Diana Tak lengkap rasanya bila ke Semarang tanpa mengunjungi tempat ini.Setiap sudut memiliki makna dan sayang untuk tidak mengabadikan foto ketika berada disini\n",
      "5.0  Ardan Nur Saya warga asli Semarang dan tinggal di Semarang. Saya juga jarang pergi ke Lawang Sewu. Kesan ketika masuk kedalam komplek Lawang Sewu begitu terasa. Seram? Sedikit. Notlagia? Iya. Penataan Lawang Sewu yang sekarang menurut saya sudah cukup bagus bila dibandingkan waktu saya datang pertama kali ke tempat ini (tapatnya bersama ibu saya ketika saya masih SD). Sarang laba-laba sudah berkurang, semak belukar juga, bangunan tidak terlihat tua dibandingkan beberapa tahun ke belakang. Menurut saya, ada baiknya jika di Lawang Sewu diadakan sebuah pentas seni (musik atau drama) yang jadwalnya rutin sebulan sekali agar lebih menarik pengunjung lebih banyak lagi.Pesan terakhir saya, semoga hantu disana bisa lebih akrab lagi dengan manusia yang datang. Hahahaha (bercanda).\n",
      "5.0  forensix46 Salah satu tempat bersejarah di kota semarang ,dengan desain bangunan yang sangat khas dengan zaman penjajahan era belanda dahulu ,\n"
     ]
    },
    {
     "name": "stdout",
     "output_type": "stream",
     "text": [
      "5\n",
      "4.0  Santy L Tempat bersejarah. Wajin datang untuk melihat sekitaran tempat ini,karena selain keliatan seperti gedung kuno ada juga sejarah dibaliknya. Lebih baik pergi saat siang agar tidak terlalu horor\n",
      "4.0  id-Traveler Gedung tua yang pernah menjadi kantor PJKA kembali dipugar dan di perbaiki, kesan angker sudah tidak nampak berganti dengan bangunan klasik yang resik dan nyaman untuk dikunjungi. datanglah pagi hari untuk menikmati suasana yang lebih nyaman.\n",
      "5.0  harryputranti JIka ada tamu atau teman datang ke Semarang mereka Selalu bertanya Lawang Sewu seperti apa sich? Ayuuuk kuantar kesana dan setelahnya mereka selalu ckckckc hebat ya bagus banget\n",
      "5.0  lisa c Kalo ke Semarang, harus mampir ke Lawang Sewu yg merupakan salah satu destinasi tujuan wisata. Lawang Sewu merupakan bekas peninggalan Belanda yang terdiri dari banyak ruang dan pintu, konon mencapai 1000 pintu maka disebut Lawang (pintu) Sewu (Seribu). Tiket masuk Rp. 10.000…\n",
      "4.0  Dhedhi Bagi beberapa kelompok orang Lawang Sewu masih dianggap sebagai tempat horor & menyeramkan. Anggapan ini tidak sepenuhnya salah karena memang kesan pertama kami saat pertama memasuki area juga seperti itu. Tapi kesan itu tidak menghalangi kami untuk melanjutkan wisata. Banyak…\n",
      "5\n",
      "5.0  alyne s Bangunan dengan arsitektur indah yang masih terawat dengan sangat baik dan menyipan berbagai sejarah dari jaman ke jaman.\n",
      "5.0  Dbcut pelayanan guidenya bagus, tempat wisata yang edukatif, tempatnya bersih sampai tangga n pintu-pintu yang banyak pun hampir g ada debunya, perawatannya bagus\n",
      "5.0  Endang Malem-malem diajak kesini ma cabang Semarang, ngerjain banget dah...tempatnya luas banget, lampunya terang banget, malem-malem masih banyak juga yang kesini...\n",
      "4.0  Bhaskara A Salah satu tempat bersejarah di Semarang. Lokasinya di pusat kota, mudah dicari karena bangunannya besar dan megah. Ciri khas dari Lawang Sewu ada lokomotif di halaman depan yang menjadi simbol bahwa gedung tersebut bekas kantor kereta api jaman dulu. Saya sudah lupa berapa…\n",
      "5.0  Wisnu W Bangunan bersejarah peninggalan jaman penjajahan Belanda yang sangat luar biasa. Bangunan dengan \"seribu pintu\" yang sangat indah dan kokoh, dan masih terawat dengan apik.\n",
      "5\n",
      "5.0  Naning Dengan mengunjungi gedung lawang sewu seolah kita berada d masa lalu Dengan bangunan yg masih kuno penuh makna sejarah Setiap sudutnya bisa dijadikan spot foto\n",
      "5.0  Abd Rohman Addakhil Tempat klasik yang instagramable. kalau dikatakan angker enggak sih.disini dipajang beberapa peninggalan jaman dahulu jadi bisa menambah wawasan secara langsung\n",
      "4.0  identic Lawang sewu adalah bangunan jaman belanda dengan pintu yang banyak, karena terlalu banyak maka disebut \"sewu\" yang artinya seribu. Bangunan ini telah dipugar di jaman pemerintahan presiden SBY, dan sekarang menjadi objek wisata yang populer di Semarang. Cukup menarik, selain…\n",
      "5.0  Wulan Saya pernah mengunjungi Lawang Sewu berkali-kali. Tempatnya bersih dan sudah bagus. Di dalemnya bisa melihat sejarah perkereta apian di Indonesia. Ada foto, seragam petugas KAI masa lalu dsb. Bangunannya apik buat foto-foto dan menuhin galeri hehe\n",
      "5.0  Boedi Noegroho A Sebagai bangunan bersejarah, Lawang Sewu layak dikunjungi. Setiba di hotel pada sore hari (kebetulan dekat sekali dengan Lawang Sewu) setelah santap sore, saya menjelajahi hampir seluruh bangunan (kecuali ada beberapa bagian yang tidak boleh dikunjungi oleh umum) saat sore…\n"
     ]
    }
   ],
   "source": [
    "# fungsi untuk memeriksa button pada halaman, untuk menghindari masalah miss-click\n",
    "def check_exists_by_xpath(xpath):\n",
    "    try:\n",
    "        driver.find_element_by_xpath(xpath)\n",
    "    except NoSuchElementException:\n",
    "        return False\n",
    "    return True\n",
    "\n",
    "\n",
    "#time.sleep(2)\n",
    "#driver.find_element_by_xpath('//span[contains(@class, \"ExpandableReview\")]').click()\n",
    "time.sleep(2)\n",
    "\n",
    "# memmbuka file untuk menyimpan ulasan\n",
    "csvFile = open(\"uji scrap.csv\", 'a', encoding=\"utf-8\")\n",
    "csvWriter = csv.writer(csvFile)\n",
    "\n",
    "# ubah nilai di dalam tanda kurung untuk menyimpan lebih banyak atau sedikit ulasan\n",
    "for i in range(0,10):\n",
    "    if (check_exists_by_xpath(\"//span[@class=_3maEfNCR']\")):\n",
    "        # to expand the review\n",
    "        driver.find_element_by_xpath(\"//span[@class='_3maEfNCR']\").click()\n",
    "        time.sleep(5)\n",
    "        \n",
    "    container = driver.find_elements_by_xpath(\"//div[@class='Dq9MAugU T870kzTX LnVzGwUB']\")\n",
    "    num_page_items = len(container);\n",
    "    #print(container)\n",
    "    print(num_page_items)\n",
    "    for j in range(num_page_items):\n",
    "        # to save the rating\n",
    "        string = container[j].find_element_by_xpath(\".//span[contains(@class, 'ui_bubble_rating bubble_')]\").get_attribute(\"class\")\n",
    "        # to save in a csv file readable the star and the review [Ex: 50,\"I love this place\"]\n",
    "        data = string.split(\"_\")\n",
    "        rating = int(data[3])/10\n",
    "        poster_name = container[j].find_element_by_xpath(\".//a[contains(@class,'ui_header_link _1r_My98y')]\").text.replace(\"\\n\",\"\")\n",
    "        #print(poster_name)\n",
    "       \n",
    "        review_text = container[j].find_element_by_xpath(\".//q[@class='IRsGHoPm']\").text.replace(\"\\n\", \"\")\n",
    "        print(str(rating) + \"  \" + poster_name + \" \" + review_text) \n",
    "        csvWriter.writerow([str(rating),poster_name,review_text.encode('ascii', 'ignore').decode('ascii') ])\n",
    "\n",
    "    # untuk mengubah halaman pada website\n",
    "    if check_exists_by_xpath(\".//a[contains(@class, 'ui_button nav next primary ')]\"):\n",
    "        driver.find_element_by_xpath(\".//a[contains(@class, 'ui_button nav next primary ')]\").click()\n",
    "    #driver.find_element_by_xpath('//a[contains(@class, \"next\")]').click()\n",
    "    time.sleep(6)\n",
    "    \n",
    "driver.close()"
   ]
  },
  {
   "cell_type": "code",
   "execution_count": null,
   "metadata": {},
   "outputs": [],
   "source": []
  }
 ],
 "metadata": {
  "kernelspec": {
   "display_name": "Python 3",
   "language": "python",
   "name": "python3"
  },
  "language_info": {
   "codemirror_mode": {
    "name": "ipython",
    "version": 3
   },
   "file_extension": ".py",
   "mimetype": "text/x-python",
   "name": "python",
   "nbconvert_exporter": "python",
   "pygments_lexer": "ipython3",
   "version": "3.6.9"
  }
 },
 "nbformat": 4,
 "nbformat_minor": 2
}
