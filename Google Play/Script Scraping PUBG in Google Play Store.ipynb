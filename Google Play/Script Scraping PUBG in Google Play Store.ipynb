{
 "cells": [
  {
   "cell_type": "markdown",
   "metadata": {},
   "source": [
    "\n",
    "# Web Scraping Using Selenium in Google Play Store \n",
    "\n",
    "This code is mining the Indonesian-language response data for PUBG games on the Google Play Store application using selenium and webdriver "
   ]
  },
  {
   "cell_type": "code",
   "execution_count": 5,
   "metadata": {},
   "outputs": [],
   "source": [
    "# import datetime, time\n",
    "import locale\n",
    "import csv\n",
    "from selenium import webdriver\n",
    "from selenium.webdriver.common.keys import Keys\n",
    "import datetime, time"
   ]
  },
  {
   "cell_type": "code",
   "execution_count": 6,
   "metadata": {},
   "outputs": [],
   "source": [
    "# Create the filename and url\n",
    "urls = {\"dataa.csv\":\"https://play.google.com/store/apps/details?id=com.tencent.ig&hl=in&showAllReviews=true\"}"
   ]
  },
  {
   "cell_type": "code",
   "execution_count": 7,
   "metadata": {},
   "outputs": [],
   "source": [
    "browser = webdriver.Chrome(\"C:/Users/Fajar/chromedriver_win32()/chromedriver.exe\")\n",
    "\n",
    "for file_name, url in urls.items():\n",
    "    \n",
    "    csv_file = open(file_name, 'w', newline='', encoding=\"utf-8\")\n",
    "    csv_writer = csv.writer(csv_file, delimiter=',', lineterminator='\\n')\n",
    "    csv_writer.writerow(['Name','Date','Rate', 'Comment', 'Helpful'])\n",
    "\n",
    "    browser.get(url)\n",
    "\n",
    "    # Let the reviews load\n",
    "    time.sleep(1)\n",
    "\n",
    "    # Print the body of the HTML page\n",
    "    body = browser.find_element_by_tag_name('body')\n",
    "\n",
    "    # Keep scrolling down using a simulation of the PAGE_DOWN button\n",
    "    #You can change the range according to your needs\n",
    "    for i in range(2):\n",
    "        for _ in range(50):\n",
    "            body.send_keys(Keys.PAGE_DOWN)\n",
    "            time.sleep(0.2)\n",
    "        time.sleep(1)\n",
    "        \n",
    "\n",
    "    # Click all Full Review buttons    \n",
    "    for button in body.find_elements_by_class_name('OzU4dc'):\n",
    "        button.send_keys(Keys.RETURN)\n",
    "\n",
    "\n",
    "    # Get the reviews by their class\n",
    "    reviews = browser.find_elements_by_class_name('d15Mdf')\n",
    "\n",
    "    # Retrieve the information from each review \n",
    "    for review in reviews:\n",
    "        # Retrieve name of reviewer\n",
    "        name = review.find_element_by_class_name('X43Kjb').text\n",
    "\n",
    "        # Retrieve date of review\n",
    "        date = review.find_element_by_class_name('p2TkOb').text\n",
    "        # Change date format\n",
    "        locale.setlocale(locale.LC_ALL, 'id')\n",
    "        date = datetime.datetime.strptime(str(date), '%d %B %Y').strftime('%d/%m/%Y')\n",
    "\n",
    "        # Retrieve rating\n",
    "        rate = len(review.find_elements_by_class_name('vQHuPe'))\n",
    "\n",
    "        # Retrieve full review\n",
    "        comment = review.find_element_by_class_name('UD7Dzf').text  \n",
    "\n",
    "        # Retrieve number of likes of the review\n",
    "        helpful = review.find_element_by_class_name('jUL89d').text\n",
    "\n",
    "        #Export data into csv file\n",
    "        csv_writer.writerow([name, date, rate, comment, helpful])\n",
    "\n",
    "    csv_file.close()\n",
    "    \n",
    "browser.quit()"
   ]
  },
  {
   "cell_type": "code",
   "execution_count": null,
   "metadata": {},
   "outputs": [],
   "source": []
  }
 ],
 "metadata": {
  "kernelspec": {
   "display_name": "Python 3",
   "language": "python",
   "name": "python3"
  },
  "language_info": {
   "codemirror_mode": {
    "name": "ipython",
    "version": 3
   },
   "file_extension": ".py",
   "mimetype": "text/x-python",
   "name": "python",
   "nbconvert_exporter": "python",
   "pygments_lexer": "ipython3",
   "version": "3.6.9"
  }
 },
 "nbformat": 4,
 "nbformat_minor": 2
}
